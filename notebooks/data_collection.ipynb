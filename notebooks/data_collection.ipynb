{
 "cells": [
  {
   "cell_type": "code",
   "execution_count": null,
   "id": "c14d5484",
   "metadata": {},
   "outputs": [],
   "source": [
    "import time\n",
    "from pathlib import Path\n",
    "import pandas as pd\n",
    "from selenium import webdriver\n",
    "from selenium.webdriver.common.by import By\n",
    "from selenium.webdriver.chrome.options import Options\n",
    "\n",
    "\n",
    "url = 'https://contenido.bce.fin.ec/documentos/informacioneconomica/indicadores/real/PrecioPetroleoCrudoEcuatoriano.html'\n",
    "opts = Options()\n",
    "opts.add_argument(\"user-agent=Mozilla/5.0 (Windows NT 10.0; Win64; x64) AppleWebKit/537.36 (KHTML, like Gecko) Chrome/120.0.0.0 Safari/537.36\")\n",
    "data = []\n",
    "\n",
    "driver = webdriver.Chrome(options=opts)\n",
    "driver.get(url)\n",
    "time.sleep(2)\n",
    "table = driver.find_element(By.TAG_NAME, 'tbody')\n",
    "rows = table.find_elements(By.TAG_NAME, 'tr')\n",
    "\n",
    "data_dir = Path('data')\n",
    "if (data_dir / 'oilPrice.csv').exists():\n",
    "    df_prices = pd.read_csv(data_dir / 'oilPrice.csv')\n",
    "    last_saved_period = df_prices.iloc[0]\n",
    "    last_period = rows[0].text.split()\n",
    "    if last_saved_period[0] == last_period[0] and last_saved_period[1] == last_period[1]:\n",
    "        print('There is no new prices')\n",
    "    else:\n",
    "        for row in rows:\n",
    "            data.append(row.text.split())\n",
    "        df = pd.DataFrame(data,columns=['Year','Month','Price (USD)'])\n",
    "        df['Price (USD)'] = df['Price (USD)'].str.replace(',','.').astype(float)\n",
    "        df.to_csv(data_dir / 'oilPrice.csv')\n",
    "\n",
    "for row in rows:\n",
    "    data.append(row.text.split())\n",
    "df = pd.DataFrame(data,columns=['Year','Month','Price (USD)'])\n",
    "df['Price (USD)'] = df['Price (USD)'].str.replace(',','.').astype(float)\n",
    "df.to_csv(data_dir / 'oilPrice.csv')\n",
    "\n",
    "driver.quit()\n"
   ]
  },
  {
   "cell_type": "code",
   "execution_count": 46,
   "id": "583b817c",
   "metadata": {},
   "outputs": [],
   "source": [
    "import os\n",
    "os.chdir('..')"
   ]
  },
  {
   "cell_type": "code",
   "execution_count": 73,
   "id": "13ffdfff",
   "metadata": {},
   "outputs": [
    {
     "name": "stdout",
     "output_type": "stream",
     "text": [
      "There are no new prices.\n"
     ]
    }
   ],
   "source": [
    "import time\n",
    "from pathlib import Path\n",
    "import pandas as pd\n",
    "from selenium import webdriver\n",
    "from selenium.webdriver.common.by import By\n",
    "from selenium.webdriver.chrome.options import Options\n",
    "\n",
    "def scrape_table_rows(driver):\n",
    "    table = driver.find_element(By.TAG_NAME, 'tbody')\n",
    "    rows = table.find_elements(By.TAG_NAME, 'tr')\n",
    "    data = [row.text.split() for row in rows]\n",
    "    \n",
    "    df = pd.DataFrame(data,columns=['Year','Month','Price (USD)'])\n",
    "    df['Price (USD)'] = df['Price (USD)'].str.replace(',','.').astype(float)\n",
    "    df['Year'] = df['Year'].astype(int)\n",
    "\n",
    "    return df\n",
    "\n",
    "def update_csv(file_path, new_df):\n",
    "    if file_path.exists():\n",
    "        df_old = pd.read_csv(file_path)\n",
    "        last_saved_year, last_saved_month = df_old.iloc[0,:2]\n",
    "        last_new_year, last_new_month = new_df.iloc[0,:2]\n",
    "\n",
    "        if (last_saved_year == last_new_year) and (last_saved_month == last_new_month):\n",
    "            print('There are no new prices.')\n",
    "            return\n",
    "        \n",
    "    \n",
    "    new_df.to_csv(file_path,index=False)\n",
    "    print('Data Updated')\n",
    "\n",
    "if __name__ == '__main__':\n",
    "    url = 'https://contenido.bce.fin.ec/documentos/informacioneconomica/indicadores/real/PrecioPetroleoCrudoEcuatoriano.html'\n",
    "    data_dir = Path('data')\n",
    "    data_dir.mkdir(exist_ok=True)\n",
    "    file_path = data_dir / 'oilPrice.csv'\n",
    "    opts = Options()\n",
    "    opts.add_argument(\"user-agent=Mozilla/5.0 (Windows NT 10.0; Win64; x64) AppleWebKit/537.36 (KHTML, like Gecko) Chrome/120.0.0.0 Safari/537.36\")\n",
    "    driver = webdriver.Chrome(options=opts)\n",
    "    driver.get(url)\n",
    "    time.sleep(2)\n",
    "\n",
    "    df = scrape_table_rows(driver)\n",
    "    update_csv(file_path, df)\n",
    "\n",
    "    driver.quit()\n"
   ]
  }
 ],
 "metadata": {
  "kernelspec": {
   "display_name": "oil-optimization-sNkMMcls-py3.13",
   "language": "python",
   "name": "python3"
  },
  "language_info": {
   "codemirror_mode": {
    "name": "ipython",
    "version": 3
   },
   "file_extension": ".py",
   "mimetype": "text/x-python",
   "name": "python",
   "nbconvert_exporter": "python",
   "pygments_lexer": "ipython3",
   "version": "3.13.5"
  }
 },
 "nbformat": 4,
 "nbformat_minor": 5
}
