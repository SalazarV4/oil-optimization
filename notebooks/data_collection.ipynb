{
 "cells": [
  {
   "cell_type": "markdown",
   "id": "5a267ccf",
   "metadata": {},
   "source": [
    "## WTI Oil Prices\n",
    "* Lag features\n",
    "#### Economic growth\n",
    "* US dollar index \n",
    "* S&P 500 index \n",
    "* US Federal Reserve rate\n",
    "* Volatility index (VIX)\n",
    "* Consumer price index (CPI).\n",
    "\n",
    "source: https://savearchive.zbw.eu/bitstream/11159/5075/1/1747444766.pdf\n",
    "\n",
    "#### Weather data\n",
    "source: https://www.eia.gov/finance/markets/crudeoil/spot_prices.php\n",
    "#### Supply and Demand\n",
    "* OPEC\n",
    "\n",
    "source: https://www.investopedia.com/articles/investing/072515/top-factors-reports-affect-price-oil.asp\n"
   ]
  },
  {
   "cell_type": "markdown",
   "id": "f4e4c524",
   "metadata": {},
   "source": [
    "## Energy Information Administration (EIA) Api\n",
    "| Features | Frequence | Data Until |\n",
    "|---|---|---|\n",
    "| WTI | Daily | up-to-date |\n",
    "| Oil Production | Monthly | July 2025|\n",
    "|Weekly Input Utilization | Weekly | up-to-date |\n",
    "| Gasoline Price | Weekly | up-to-date |\n",
    "|Imports & Exports | Weekly | up-to-date |\n",
    "|Crude Oil Supplied | Monthly | July 2025 |"
   ]
  },
  {
   "cell_type": "code",
   "execution_count": 24,
   "id": "7a2949ee",
   "metadata": {},
   "outputs": [],
   "source": [
    "from src.oil_optimization.utils.io_helpers import read_yaml\n",
    "\n",
    "config = read_yaml('config/config.yml')\n",
    "\n",
    "data_dir = config['data_ingestion']['root_dir']"
   ]
  },
  {
   "cell_type": "code",
   "execution_count": 28,
   "id": "1ae0c108",
   "metadata": {},
   "outputs": [],
   "source": [
    "import pandas as pd\n",
    "import requests\n",
    "from dotenv import dotenv_values\n",
    "\n",
    "secrets = dotenv_values('.env')\n",
    "\n",
    "api_calls  = {\n",
    "    'wti_prices':{\n",
    "        'url':'https://api.eia.gov/v2/petroleum/pri/spt/data',\n",
    "        'payload':{\n",
    "                    'api_key':secrets['EIA_API_KEY'],\n",
    "                    'facets[product][]':'EPCWTI',\n",
    "                    'start':'2015-01-01',\n",
    "                    'sort[0][column]':'period',\n",
    "                    'sort[0][direction]':'asc',\n",
    "                    'frequency':'daily',\n",
    "                    'data[0]':'value'\n",
    "                }\n",
    "    },\n",
    "    'oil_production':{\n",
    "        'url':'https://api.eia.gov/v2/petroleum/crd/crpdn/data',\n",
    "        'payload':{\n",
    "                    'api_key':secrets['EIA_API_KEY'],\n",
    "                    'facets[product][]':'EPC0',\n",
    "                    'start':'2015-01-01',\n",
    "                    'sort[0][column]':'period',\n",
    "                    'sort[0][direction]':'asc',\n",
    "                    'data[0]':'value'\n",
    "                }\n",
    "    },\n",
    "    'input_utilization':{\n",
    "        'url':'https://api.eia.gov/v2/petroleum/pnp/wiup/data',\n",
    "        'payload':{\n",
    "                    'api_key':secrets['EIA_API_KEY'],\n",
    "                    'facets[product][]':'EPC0',\n",
    "                    'start':'2015-01-01',\n",
    "                    'sort[0][column]':'period',\n",
    "                    'sort[0][direction]':'asc',\n",
    "                    'data[0]':'value'\n",
    "                }\n",
    "    },\n",
    "    'gasoline_price':{\n",
    "        'url':'https://api.eia.gov/v2/petroleum/pri/gnd/data',\n",
    "        'payload':{\n",
    "                    'api_key':secrets['EIA_API_KEY'],\n",
    "                    'facets[product][]':'EPM0',\n",
    "                    'start':'2015-01-01',\n",
    "                    'sort[0][column]':'period',\n",
    "                    'sort[0][direction]':'asc',\n",
    "                    'data[0]':'value',\n",
    "                }\n",
    "    },\n",
    "    'imports_and_exports':{\n",
    "        'url':'https://api.eia.gov/v2/move/wkly/data',\n",
    "        'payload':{\n",
    "                    'api_key':secrets['EIA_API_KEY'],\n",
    "                    'facets[product][]':'EPC0',\n",
    "                    'start':'2015-01-01',\n",
    "                    'sort[0][column]':'period',\n",
    "                    'sort[0][direction]':'asc',\n",
    "                    'data[0]':'value'\n",
    "                }\n",
    "    },\n",
    "    'oil_supplied':{\n",
    "        'url':'https://api.eia.gov/v2/petroleum/cons/psup/data',\n",
    "        'payload':{\n",
    "                    'api_key':secrets['EIA_API_KEY'],\n",
    "                    'facets[product][]':'EPC0',\n",
    "                    'start':'2015-01-01',\n",
    "                    'sort[0][column]':'period',\n",
    "                    'sort[0][direction]':'asc',\n",
    "                    'data[0]':'value'\n",
    "                }\n",
    "    }}"
   ]
  },
  {
   "cell_type": "code",
   "execution_count": 34,
   "id": "9bb23bd3",
   "metadata": {},
   "outputs": [
    {
     "ename": "KeyError",
     "evalue": "'response'",
     "output_type": "error",
     "traceback": [
      "\u001b[31m---------------------------------------------------------------------------\u001b[39m",
      "\u001b[31mKeyError\u001b[39m                                  Traceback (most recent call last)",
      "\u001b[36mCell\u001b[39m\u001b[36m \u001b[39m\u001b[32mIn[34]\u001b[39m\u001b[32m, line 5\u001b[39m\n\u001b[32m      3\u001b[39m \u001b[38;5;28;01mfor\u001b[39;00m file_name,params_dict \u001b[38;5;129;01min\u001b[39;00m api_calls.items():\n\u001b[32m      4\u001b[39m     r = requests.get(params_dict[\u001b[33m'\u001b[39m\u001b[33murl\u001b[39m\u001b[33m'\u001b[39m], params=params_dict[\u001b[33m'\u001b[39m\u001b[33mpayload\u001b[39m\u001b[33m'\u001b[39m])\n\u001b[32m----> \u001b[39m\u001b[32m5\u001b[39m     df = pd.DataFrame(\u001b[43mr\u001b[49m\u001b[43m.\u001b[49m\u001b[43mjson\u001b[49m\u001b[43m(\u001b[49m\u001b[43m)\u001b[49m\u001b[43m[\u001b[49m\u001b[33;43m'\u001b[39;49m\u001b[33;43mresponse\u001b[39;49m\u001b[33;43m'\u001b[39;49m\u001b[43m]\u001b[49m[\u001b[33m'\u001b[39m\u001b[33mdata\u001b[39m\u001b[33m'\u001b[39m])\n\u001b[32m      6\u001b[39m     df.to_csv(\u001b[33mf\u001b[39m\u001b[33m'\u001b[39m\u001b[38;5;132;01m{\u001b[39;00mdata_dir\u001b[38;5;132;01m}\u001b[39;00m\u001b[33m/raw/\u001b[39m\u001b[38;5;132;01m{\u001b[39;00mfile_name\u001b[38;5;132;01m}\u001b[39;00m\u001b[33m.csv\u001b[39m\u001b[33m'\u001b[39m)\n\u001b[32m      7\u001b[39m     time.sleep(\u001b[32m3\u001b[39m)\n",
      "\u001b[31mKeyError\u001b[39m: 'response'"
     ]
    }
   ],
   "source": [
    "import time\n",
    "\n",
    "for file_name,params_dict in api_calls.items():\n",
    "    r = requests.get(params_dict['url'], params=params_dict['payload'])\n",
    "    df = pd.DataFrame(r.json()['response']['data'])\n",
    "    df.to_csv(f'{data_dir}/raw/{file_name}.csv')\n",
    "    time.sleep(3)\n"
   ]
  },
  {
   "cell_type": "markdown",
   "id": "66d52710",
   "metadata": {},
   "source": [
    "## Stock Market Indexes\n",
    "* S&P 500 Energy"
   ]
  },
  {
   "cell_type": "code",
   "execution_count": 56,
   "id": "61ce3a1a",
   "metadata": {},
   "outputs": [],
   "source": [
    "import yfinance as yf"
   ]
  },
  {
   "cell_type": "code",
   "execution_count": null,
   "id": "689b682e",
   "metadata": {},
   "outputs": [
    {
     "name": "stderr",
     "output_type": "stream",
     "text": [
      "C:\\Users\\User\\AppData\\Local\\Temp\\ipykernel_1752\\627084361.py:1: FutureWarning: YF.download() has changed argument auto_adjust default to True\n",
      "  energy = yf.download('^GSPE',start='2015-01-01')\n",
      "[*********************100%***********************]  1 of 1 completed\n"
     ]
    }
   ],
   "source": [
    "energy = yf.download('^GSPE',start='2015-01-01')    "
   ]
  },
  {
   "cell_type": "code",
   "execution_count": 78,
   "id": "be95d0b6",
   "metadata": {},
   "outputs": [],
   "source": [
    "energy.Close.reset_index().to_csv('data/energy.csv',index=False)"
   ]
  },
  {
   "cell_type": "code",
   "execution_count": 13,
   "id": "68fec000",
   "metadata": {},
   "outputs": [
    {
     "name": "stdout",
     "output_type": "stream",
     "text": [
      "{'data_ingestion': {'api_endpoint': ['https://api.eia.gov/v2/crude-oil-imports/data',\n",
      "                                     'https://api.eia.gov/v2/petroleum/pri/spt/data'],\n",
      "                    'macro_indicators_urls': ['https://contenido.bce.fin.ec/documentos/informacioneconomica/indicadores/real/PrecioPetroleoCrudoEcuatoriano.html',\n",
      "                                              'https://contenido.bce.fin.ec/documentos/informacioneconomica/indicadores/real/Inflacion.html'],\n",
      "                    'oil_reports_url': ['https://contenido.bce.fin.ec/documentos/Estadisticas/Hidrocarburos/SerieCifrasPetroleras.xlsx'],\n",
      "                    'root_dir': 'data',\n",
      "                    'yfinance': {'start_date': '2015-01-01',\n",
      "                                 'ticker': '^GSPE'}}}\n"
     ]
    }
   ],
   "source": [
    "import pprint\n",
    "from src.oil_optimization.utils.io_helpers import read_yaml\n",
    "content = read_yaml('config/config.yml')\n",
    "pprint.pprint(content)"
   ]
  },
  {
   "cell_type": "markdown",
   "id": "647d22e2",
   "metadata": {},
   "source": [
    "## Federeal Reserve Bank of St. Louis (FRED)"
   ]
  }
 ],
 "metadata": {
  "kernelspec": {
   "display_name": "oil-optimization-sNkMMcls-py3.13",
   "language": "python",
   "name": "python3"
  },
  "language_info": {
   "codemirror_mode": {
    "name": "ipython",
    "version": 3
   },
   "file_extension": ".py",
   "mimetype": "text/x-python",
   "name": "python",
   "nbconvert_exporter": "python",
   "pygments_lexer": "ipython3",
   "version": "3.13.5"
  }
 },
 "nbformat": 4,
 "nbformat_minor": 5
}
